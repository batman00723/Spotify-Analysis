{
 "cells": [
  {
   "cell_type": "code",
   "execution_count": 2,
   "id": "037fc2c6-425b-4445-ac93-947d934fc476",
   "metadata": {},
   "outputs": [
    {
     "data": {
      "text/plain": [
       "122"
      ]
     },
     "execution_count": 2,
     "metadata": {},
     "output_type": "execute_result"
    }
   ],
   "source": [
    "import pandas as pd\n",
    "import os\n",
    "from sqlalchemy import create_engine\n",
    "import urllib\n",
    "\n",
    " \n",
    "server = 'AMAN\\\\SQLEXPRESS'   \n",
    "database = 'SpotifyDB'\n",
    "\n",
    " \n",
    "params = urllib.parse.quote_plus('DRIVER={ODBC Driver 17 for SQL Server};SERVER=' + server + ';DATABASE=' + database + ';Trusted_Connection=yes;')\n",
    "engine = create_engine(\"mssql+pyodbc:///?odbc_connect=%s\" % params)\n",
    "\n",
    "\n",
    "df_song = pd.read_csv(\"data.csv\")\n",
    "df_artist = pd.read_csv(\"data_by_artist.csv\")\n",
    "df_genre = pd.read_csv(\"data_w_genres.csv\")\n",
    "df_year = pd.read_csv(\"data_by_year.csv\")\n",
    "\n",
    "\n",
    "df_song.to_sql(\n",
    "    name='spotify_tracks',   \n",
    "    con=engine,\n",
    "    if_exists='replace',     \n",
    "    index=False              \n",
    ")\n",
    "\n",
    "df_artist.to_sql(\n",
    "    name='spotify_artist',\n",
    "    con=engine,\n",
    "    if_exists='replace',\n",
    "    index=False\n",
    ")\n",
    "\n",
    "df_year.to_sql(\n",
    "    name='spotify_year',\n",
    "    con=engine,\n",
    "    if_exists='replace',\n",
    "    index=False\n",
    ")\n",
    "\n",
    "df_genre.to_sql(\n",
    "    name='spotify_genre',\n",
    "    con=engine,\n",
    "    if_exists='replace',\n",
    "    index=False\n",
    ")\n",
    "\n"
   ]
  },
  {
   "cell_type": "markdown",
   "id": "84f89fff-e64e-48e0-824b-40ad151e1a99",
   "metadata": {},
   "source": [
    "### Cleaning DataFrames"
   ]
  },
  {
   "cell_type": "code",
   "execution_count": 3,
   "id": "1e3aa23b-edd1-4df8-8124-da44cbd60570",
   "metadata": {},
   "outputs": [
    {
     "data": {
      "text/plain": [
       "Index(['valence', 'year', 'acousticness', 'artists', 'danceability',\n",
       "       'duration_ms', 'energy', 'explicit', 'id', 'instrumentalness', 'key',\n",
       "       'liveness', 'loudness', 'mode', 'name', 'popularity', 'release_date',\n",
       "       'speechiness', 'tempo'],\n",
       "      dtype='object')"
      ]
     },
     "execution_count": 3,
     "metadata": {},
     "output_type": "execute_result"
    }
   ],
   "source": [
    "df_song.columns"
   ]
  },
  {
   "cell_type": "code",
   "execution_count": 4,
   "id": "70d7e164-d710-4e00-8a2f-5ba019f110ca",
   "metadata": {},
   "outputs": [],
   "source": [
    "# here change release date format to datetime\n",
    "\n",
    "df_song['release_date'] = df_song['release_date'].astype('datetime64[ns]')"
   ]
  },
  {
   "cell_type": "code",
   "execution_count": 5,
   "id": "fc5af531-7de2-4f17-a5cd-ecacda9481ee",
   "metadata": {},
   "outputs": [
    {
     "name": "stdout",
     "output_type": "stream",
     "text": [
      "<class 'pandas.core.frame.DataFrame'>\n",
      "RangeIndex: 170653 entries, 0 to 170652\n",
      "Data columns (total 19 columns):\n",
      " #   Column            Non-Null Count   Dtype         \n",
      "---  ------            --------------   -----         \n",
      " 0   valence           170653 non-null  float64       \n",
      " 1   year              170653 non-null  int64         \n",
      " 2   acousticness      170653 non-null  float64       \n",
      " 3   artists           170653 non-null  object        \n",
      " 4   danceability      170653 non-null  float64       \n",
      " 5   duration_ms       170653 non-null  int64         \n",
      " 6   energy            170653 non-null  float64       \n",
      " 7   explicit          170653 non-null  int64         \n",
      " 8   id                170653 non-null  object        \n",
      " 9   instrumentalness  170653 non-null  float64       \n",
      " 10  key               170653 non-null  int64         \n",
      " 11  liveness          170653 non-null  float64       \n",
      " 12  loudness          170653 non-null  float64       \n",
      " 13  mode              170653 non-null  int64         \n",
      " 14  name              170653 non-null  object        \n",
      " 15  popularity        170653 non-null  int64         \n",
      " 16  release_date      170653 non-null  datetime64[ns]\n",
      " 17  speechiness       170653 non-null  float64       \n",
      " 18  tempo             170653 non-null  float64       \n",
      "dtypes: datetime64[ns](1), float64(9), int64(6), object(3)\n",
      "memory usage: 24.7+ MB\n"
     ]
    }
   ],
   "source": [
    "df_song.info()"
   ]
  },
  {
   "cell_type": "code",
   "execution_count": 6,
   "id": "f164597d-79fe-4a2e-8c44-d5f343520449",
   "metadata": {
    "scrolled": true
   },
   "outputs": [
    {
     "data": {
      "text/plain": [
       "np.int64(0)"
      ]
     },
     "execution_count": 6,
     "metadata": {},
     "output_type": "execute_result"
    }
   ],
   "source": [
    "df_song.isnull().sum().sum()"
   ]
  },
  {
   "cell_type": "raw",
   "id": "a3a44584-563a-4e55-95a4-4710e4a93d57",
   "metadata": {},
   "source": [
    "Here we can see our df has no nulls "
   ]
  },
  {
   "cell_type": "markdown",
   "id": "6435a30e-3527-4834-b06a-4a41c6f7087b",
   "metadata": {},
   "source": [
    "In artists column we have some irrelevant values we only want \\wand \\s and remove else"
   ]
  },
  {
   "cell_type": "code",
   "execution_count": 7,
   "id": "aa75b39d-8448-408a-9ccc-5bbeec339f44",
   "metadata": {},
   "outputs": [
    {
     "name": "stderr",
     "output_type": "stream",
     "text": [
      "C:\\Users\\batma\\AppData\\Local\\Temp\\ipykernel_23500\\2410817988.py:1: FutureWarning: A value is trying to be set on a copy of a DataFrame or Series through chained assignment using an inplace method.\n",
      "The behavior will change in pandas 3.0. This inplace method will never work because the intermediate object on which we are setting values always behaves as a copy.\n",
      "\n",
      "For example, when doing 'df[col].method(value, inplace=True)', try using 'df.method({col: value}, inplace=True)' or df[col] = df[col].method(value) instead, to perform the operation inplace on the original object.\n",
      "\n",
      "\n",
      "  df_song['artists'].replace('[^\\w\\s]', '', regex=True, inplace = True)\n"
     ]
    }
   ],
   "source": [
    "df_song['artists'].replace('[^\\w\\s]', '', regex=True, inplace = True)"
   ]
  },
  {
   "cell_type": "code",
   "execution_count": 8,
   "id": "63db4c73-3bf5-4bcc-9376-d188e82fb510",
   "metadata": {},
   "outputs": [],
   "source": [
    "df_song['artists'] = df_song['artists'].apply(lambda x:x.title())\n",
    "df_song['name'] = df_song['name'].apply(lambda x:x.title())"
   ]
  },
  {
   "cell_type": "code",
   "execution_count": 9,
   "id": "5478fa75-fe0d-46da-ad6e-cb253051b58a",
   "metadata": {},
   "outputs": [],
   "source": [
    "df_song = df_song[['id','name','artists','year','duration_ms','valence','acousticness','danceability','energy', 'explicit','instrumentalness', 'key', 'liveness', 'loudness', 'mode','popularity','speechiness', 'tempo']]"
   ]
  },
  {
   "cell_type": "code",
   "execution_count": 10,
   "id": "83ffcbbb-1476-47e5-b9d6-7f3e018b286d",
   "metadata": {},
   "outputs": [
    {
     "data": {
      "text/plain": [
       "np.int64(0)"
      ]
     },
     "execution_count": 10,
     "metadata": {},
     "output_type": "execute_result"
    }
   ],
   "source": [
    "df_song['id'].duplicated().sum()"
   ]
  },
  {
   "cell_type": "markdown",
   "id": "2462b458-163e-468a-ac32-2b55a2103e93",
   "metadata": {},
   "source": [
    "Since id column is unnique so set it as index"
   ]
  },
  {
   "cell_type": "code",
   "execution_count": 11,
   "id": "aeca97f4-4b59-49c2-9701-6b66c02039bc",
   "metadata": {},
   "outputs": [],
   "source": [
    "df_song.set_index('id', verify_integrity = True, inplace = True)"
   ]
  },
  {
   "cell_type": "code",
   "execution_count": 12,
   "id": "7032144b-91cd-4cee-b4fe-1308d5811afa",
   "metadata": {},
   "outputs": [],
   "source": [
    "df_song['duration_ms'] = df_song['duration_ms']/60000"
   ]
  },
  {
   "cell_type": "code",
   "execution_count": 13,
   "id": "f7c02055-efdd-4967-9172-43b22d7756f1",
   "metadata": {},
   "outputs": [],
   "source": [
    "df_song['duration_ms'] = df_song['duration_ms'].round(2)"
   ]
  },
  {
   "cell_type": "code",
   "execution_count": 14,
   "id": "73e4be96-5ac0-40ce-9446-d8cdf382f541",
   "metadata": {},
   "outputs": [],
   "source": [
    "df_song.rename(columns = {'duration_ms':'duration_min'}, inplace = True)"
   ]
  },
  {
   "cell_type": "code",
   "execution_count": 115,
   "id": "3a4d10bf-2df3-4651-a89e-2961bed382f4",
   "metadata": {},
   "outputs": [],
   "source": [
    "df_song.rename(columns = {'name':'track_name',\n",
    "                          'artists':'artist_name',\n",
    "                          'explicit':'explicit_flag',\n",
    "                          'year':'release_year',\n",
    "                         'tempo':'tempo_bpm'}, \n",
    "              inplace = True)"
   ]
  },
  {
   "cell_type": "code",
   "execution_count": null,
   "id": "21659ca8-e1a6-4ee6-b22e-eea65b7341c6",
   "metadata": {},
   "outputs": [],
   "source": []
  },
  {
   "cell_type": "markdown",
   "id": "f3704d1f-bb1d-40db-a9d8-259a4ba3ff7d",
   "metadata": {},
   "source": [
    "### Checking for Outliers"
   ]
  },
  {
   "cell_type": "code",
   "execution_count": 15,
   "id": "959d677b-f2f3-47d2-b025-3e6202d065cc",
   "metadata": {},
   "outputs": [
    {
     "name": "stdout",
     "output_type": "stream",
     "text": [
      "explicit\n",
      "0    156220\n",
      "1     14433\n",
      "Name: count, dtype: int64\n"
     ]
    }
   ],
   "source": [
    "print(df_song.value_counts('explicit'))"
   ]
  },
  {
   "cell_type": "code",
   "execution_count": 16,
   "id": "8b6cbe07-9fba-44cd-a453-b25bb23ff604",
   "metadata": {},
   "outputs": [],
   "source": [
    "df_duration_outliers = df_song['duration_min'].value_counts().sort_values(ascending = False)"
   ]
  },
  {
   "cell_type": "code",
   "execution_count": 17,
   "id": "bd4b9dae-a9d2-4524-b5f9-f7444c09f38b",
   "metadata": {},
   "outputs": [
    {
     "data": {
      "text/plain": [
       "<Axes: ylabel='Frequency'>"
      ]
     },
     "execution_count": 17,
     "metadata": {},
     "output_type": "execute_result"
    },
    {
     "data": {
      "image/png": "[encoded data removed]",
      "text/plain": [
       "<Figure size 640x480 with 1 Axes>"
      ]
     },
     "metadata": {},
     "output_type": "display_data"
    }
   ],
   "source": [
    "df_duration_outliers.plot(kind = 'hist')"
   ]
  },
  {
   "cell_type": "code",
   "execution_count": 18,
   "id": "ddfd0927-bbd2-4ba7-a6f6-2ba0953c4453",
   "metadata": {},
   "outputs": [
    {
     "data": {
      "text/plain": [
       "np.int64(1893)"
      ]
     },
     "execution_count": 18,
     "metadata": {},
     "output_type": "execute_result"
    }
   ],
   "source": [
    "long_songs = df_song.query(\"year<1980 and duration_min>10\")\n",
    "long_songs['name'].count()"
   ]
  },
  {
   "cell_type": "markdown",
   "id": "f0987eac-bad6-401a-8d36-0904849e09b5",
   "metadata": {},
   "source": [
    "Analysis shows that extremely long tracks (>10 minutes) were mostly produced before 1980 — 1,893 out of 2,258 long songs.\n",
    "To focus on mainstream trends, these historical outliers were separated for clarity, while still being highlighted in a dedicated section.\n",
    "\n",
    "So we will seperate songs before 1980 to remove historical outliers and not to skew graphs"
   ]
  },
  {
   "cell_type": "code",
   "execution_count": 98,
   "id": "a9d3db38-f6b9-4f24-96c8-57b0f694e74a",
   "metadata": {},
   "outputs": [],
   "source": [
    "df_pre_1980 = df_song.query(\"year<=1980\")"
   ]
  },
  {
   "cell_type": "code",
   "execution_count": 23,
   "id": "c27e8ab7-3f87-4348-802b-b7f6486255db",
   "metadata": {},
   "outputs": [],
   "source": [
    "df_song = df_song.query(\"year>1980\")"
   ]
  },
  {
   "cell_type": "code",
   "execution_count": 43,
   "id": "93fc28e2-98c7-40e7-93ef-fe8e637b579c",
   "metadata": {},
   "outputs": [
    {
     "data": {
      "text/plain": [
       "np.int64(349)"
      ]
     },
     "execution_count": 43,
     "metadata": {},
     "output_type": "execute_result"
    }
   ],
   "source": [
    "df_song['name'][df_song['duration_min'] > 10].count()"
   ]
  },
  {
   "cell_type": "code",
   "execution_count": 145,
   "id": "a6ccc01d-7b3f-4128-b04f-75a61a05b908",
   "metadata": {},
   "outputs": [
    {
     "data": {
      "text/plain": [
       "release_year        1996.098765\n",
       "duration_min          26.877160\n",
       "valence                0.213090\n",
       "acousticness           0.557975\n",
       "danceability           0.281542\n",
       "energy                 0.351174\n",
       "explicit_flag          0.049383\n",
       "instrumentalness       0.476223\n",
       "key                    5.197531\n",
       "liveness               0.248919\n",
       "loudness             -17.663037\n",
       "mode                   0.728395\n",
       "popularity            41.222222\n",
       "speechiness            0.089237\n",
       "tempo_bpm            101.389605\n",
       "dtype: float64"
      ]
     },
     "execution_count": 145,
     "metadata": {},
     "output_type": "execute_result"
    }
   ],
   "source": [
    "df_song.query(\"duration_min>15\").mean(numeric_only = True)"
   ]
  },
  {
   "cell_type": "markdown",
   "id": "c70f08ff-d44a-403b-8be2-9859127b0dcd",
   "metadata": {},
   "source": [
    "Here we can see there are 349 tracks with duration over 10 minutes which is rare in modern times as analysed these are violin sounds nature ambient sounds with average popularity of 41.\n",
    "We will not remove these tracks as they dont have very low popularity and they wont do any much harm to our analysis."
   ]
  },
  {
   "cell_type": "code",
   "execution_count": 48,
   "id": "5c8a7f26-5228-4bf9-a6cd-84d86a48ca85",
   "metadata": {},
   "outputs": [
    {
     "data": {
      "text/plain": [
       "mode\n",
       "1    54520\n",
       "0    24731\n",
       "Name: count, dtype: int64"
      ]
     },
     "execution_count": 48,
     "metadata": {},
     "output_type": "execute_result"
    }
   ],
   "source": [
    "df_song.value_counts('mode')"
   ]
  },
  {
   "cell_type": "code",
   "execution_count": 71,
   "id": "26deaab0-aca7-4ab8-9498-5b862831c484",
   "metadata": {},
   "outputs": [
    {
     "data": {
      "text/html": [
       "<div>\n",
       "<style scoped>\n",
       "    .dataframe tbody tr th:only-of-type {\n",
       "        vertical-align: middle;\n",
       "    }\n",
       "\n",
       "    .dataframe tbody tr th {\n",
       "        vertical-align: top;\n",
       "    }\n",
       "\n",
       "    .dataframe thead th {\n",
       "        text-align: right;\n",
       "    }\n",
       "</style>\n",
       "<table border=\"1\" class=\"dataframe\">\n",
       "  <thead>\n",
       "    <tr style=\"text-align: right;\">\n",
       "      <th></th>\n",
       "      <th>name</th>\n",
       "      <th>artists</th>\n",
       "      <th>year</th>\n",
       "      <th>duration_min</th>\n",
       "      <th>valence</th>\n",
       "      <th>acousticness</th>\n",
       "      <th>danceability</th>\n",
       "      <th>energy</th>\n",
       "      <th>explicit</th>\n",
       "      <th>instrumentalness</th>\n",
       "      <th>key</th>\n",
       "      <th>liveness</th>\n",
       "      <th>loudness</th>\n",
       "      <th>mode</th>\n",
       "      <th>popularity</th>\n",
       "      <th>speechiness</th>\n",
       "      <th>tempo</th>\n",
       "    </tr>\n",
       "    <tr>\n",
       "      <th>id</th>\n",
       "      <th></th>\n",
       "      <th></th>\n",
       "      <th></th>\n",
       "      <th></th>\n",
       "      <th></th>\n",
       "      <th></th>\n",
       "      <th></th>\n",
       "      <th></th>\n",
       "      <th></th>\n",
       "      <th></th>\n",
       "      <th></th>\n",
       "      <th></th>\n",
       "      <th></th>\n",
       "      <th></th>\n",
       "      <th></th>\n",
       "      <th></th>\n",
       "      <th></th>\n",
       "    </tr>\n",
       "  </thead>\n",
       "  <tbody>\n",
       "  </tbody>\n",
       "</table>\n",
       "</div>"
      ],
      "text/plain": [
       "Empty DataFrame\n",
       "Columns: [name, artists, year, duration_min, valence, acousticness, danceability, energy, explicit, instrumentalness, key, liveness, loudness, mode, popularity, speechiness, tempo]\n",
       "Index: []"
      ]
     },
     "execution_count": 71,
     "metadata": {},
     "output_type": "execute_result"
    }
   ],
   "source": [
    "df_song.query(\"valence>1 or valence <0\")"
   ]
  },
  {
   "cell_type": "code",
   "execution_count": 70,
   "id": "ce39a839-c8d7-4728-8429-9f502f27f250",
   "metadata": {},
   "outputs": [
    {
     "data": {
      "text/html": [
       "<div>\n",
       "<style scoped>\n",
       "    .dataframe tbody tr th:only-of-type {\n",
       "        vertical-align: middle;\n",
       "    }\n",
       "\n",
       "    .dataframe tbody tr th {\n",
       "        vertical-align: top;\n",
       "    }\n",
       "\n",
       "    .dataframe thead th {\n",
       "        text-align: right;\n",
       "    }\n",
       "</style>\n",
       "<table border=\"1\" class=\"dataframe\">\n",
       "  <thead>\n",
       "    <tr style=\"text-align: right;\">\n",
       "      <th></th>\n",
       "      <th>name</th>\n",
       "      <th>artists</th>\n",
       "      <th>year</th>\n",
       "      <th>duration_min</th>\n",
       "      <th>valence</th>\n",
       "      <th>acousticness</th>\n",
       "      <th>danceability</th>\n",
       "      <th>energy</th>\n",
       "      <th>explicit</th>\n",
       "      <th>instrumentalness</th>\n",
       "      <th>key</th>\n",
       "      <th>liveness</th>\n",
       "      <th>loudness</th>\n",
       "      <th>mode</th>\n",
       "      <th>popularity</th>\n",
       "      <th>speechiness</th>\n",
       "      <th>tempo</th>\n",
       "    </tr>\n",
       "    <tr>\n",
       "      <th>id</th>\n",
       "      <th></th>\n",
       "      <th></th>\n",
       "      <th></th>\n",
       "      <th></th>\n",
       "      <th></th>\n",
       "      <th></th>\n",
       "      <th></th>\n",
       "      <th></th>\n",
       "      <th></th>\n",
       "      <th></th>\n",
       "      <th></th>\n",
       "      <th></th>\n",
       "      <th></th>\n",
       "      <th></th>\n",
       "      <th></th>\n",
       "      <th></th>\n",
       "      <th></th>\n",
       "    </tr>\n",
       "  </thead>\n",
       "  <tbody>\n",
       "  </tbody>\n",
       "</table>\n",
       "</div>"
      ],
      "text/plain": [
       "Empty DataFrame\n",
       "Columns: [name, artists, year, duration_min, valence, acousticness, danceability, energy, explicit, instrumentalness, key, liveness, loudness, mode, popularity, speechiness, tempo]\n",
       "Index: []"
      ]
     },
     "execution_count": 70,
     "metadata": {},
     "output_type": "execute_result"
    }
   ],
   "source": [
    "df_song.query(\"acousticness>1 or acousticness<0\")"
   ]
  },
  {
   "cell_type": "code",
   "execution_count": 69,
   "id": "ec1a62bc-eaca-49de-bf33-d493e11c5539",
   "metadata": {},
   "outputs": [
    {
     "data": {
      "text/html": [
       "<div>\n",
       "<style scoped>\n",
       "    .dataframe tbody tr th:only-of-type {\n",
       "        vertical-align: middle;\n",
       "    }\n",
       "\n",
       "    .dataframe tbody tr th {\n",
       "        vertical-align: top;\n",
       "    }\n",
       "\n",
       "    .dataframe thead th {\n",
       "        text-align: right;\n",
       "    }\n",
       "</style>\n",
       "<table border=\"1\" class=\"dataframe\">\n",
       "  <thead>\n",
       "    <tr style=\"text-align: right;\">\n",
       "      <th></th>\n",
       "      <th>name</th>\n",
       "      <th>artists</th>\n",
       "      <th>year</th>\n",
       "      <th>duration_min</th>\n",
       "      <th>valence</th>\n",
       "      <th>acousticness</th>\n",
       "      <th>danceability</th>\n",
       "      <th>energy</th>\n",
       "      <th>explicit</th>\n",
       "      <th>instrumentalness</th>\n",
       "      <th>key</th>\n",
       "      <th>liveness</th>\n",
       "      <th>loudness</th>\n",
       "      <th>mode</th>\n",
       "      <th>popularity</th>\n",
       "      <th>speechiness</th>\n",
       "      <th>tempo</th>\n",
       "    </tr>\n",
       "    <tr>\n",
       "      <th>id</th>\n",
       "      <th></th>\n",
       "      <th></th>\n",
       "      <th></th>\n",
       "      <th></th>\n",
       "      <th></th>\n",
       "      <th></th>\n",
       "      <th></th>\n",
       "      <th></th>\n",
       "      <th></th>\n",
       "      <th></th>\n",
       "      <th></th>\n",
       "      <th></th>\n",
       "      <th></th>\n",
       "      <th></th>\n",
       "      <th></th>\n",
       "      <th></th>\n",
       "      <th></th>\n",
       "    </tr>\n",
       "  </thead>\n",
       "  <tbody>\n",
       "  </tbody>\n",
       "</table>\n",
       "</div>"
      ],
      "text/plain": [
       "Empty DataFrame\n",
       "Columns: [name, artists, year, duration_min, valence, acousticness, danceability, energy, explicit, instrumentalness, key, liveness, loudness, mode, popularity, speechiness, tempo]\n",
       "Index: []"
      ]
     },
     "execution_count": 69,
     "metadata": {},
     "output_type": "execute_result"
    }
   ],
   "source": [
    "df_song.query(\"danceability>1 or danceability<0\")"
   ]
  },
  {
   "cell_type": "code",
   "execution_count": 78,
   "id": "1069b2e7-202e-490c-bd32-cd194ac30afe",
   "metadata": {},
   "outputs": [
    {
     "data": {
      "text/html": [
       "<div>\n",
       "<style scoped>\n",
       "    .dataframe tbody tr th:only-of-type {\n",
       "        vertical-align: middle;\n",
       "    }\n",
       "\n",
       "    .dataframe tbody tr th {\n",
       "        vertical-align: top;\n",
       "    }\n",
       "\n",
       "    .dataframe thead th {\n",
       "        text-align: right;\n",
       "    }\n",
       "</style>\n",
       "<table border=\"1\" class=\"dataframe\">\n",
       "  <thead>\n",
       "    <tr style=\"text-align: right;\">\n",
       "      <th></th>\n",
       "      <th>name</th>\n",
       "      <th>artists</th>\n",
       "      <th>year</th>\n",
       "      <th>duration_min</th>\n",
       "      <th>valence</th>\n",
       "      <th>acousticness</th>\n",
       "      <th>danceability</th>\n",
       "      <th>energy</th>\n",
       "      <th>explicit</th>\n",
       "      <th>instrumentalness</th>\n",
       "      <th>key</th>\n",
       "      <th>liveness</th>\n",
       "      <th>loudness</th>\n",
       "      <th>mode</th>\n",
       "      <th>popularity</th>\n",
       "      <th>speechiness</th>\n",
       "      <th>tempo</th>\n",
       "    </tr>\n",
       "    <tr>\n",
       "      <th>id</th>\n",
       "      <th></th>\n",
       "      <th></th>\n",
       "      <th></th>\n",
       "      <th></th>\n",
       "      <th></th>\n",
       "      <th></th>\n",
       "      <th></th>\n",
       "      <th></th>\n",
       "      <th></th>\n",
       "      <th></th>\n",
       "      <th></th>\n",
       "      <th></th>\n",
       "      <th></th>\n",
       "      <th></th>\n",
       "      <th></th>\n",
       "      <th></th>\n",
       "      <th></th>\n",
       "    </tr>\n",
       "  </thead>\n",
       "  <tbody>\n",
       "    <tr>\n",
       "      <th>68Y3zzmt2XxzheQVGbbJt4</th>\n",
       "      <td>Genocide</td>\n",
       "      <td>Lil Darkie</td>\n",
       "      <td>2019</td>\n",
       "      <td>10.54</td>\n",
       "      <td>0.604</td>\n",
       "      <td>0.085000</td>\n",
       "      <td>0.457</td>\n",
       "      <td>0.965</td>\n",
       "      <td>1</td>\n",
       "      <td>0.000000</td>\n",
       "      <td>1</td>\n",
       "      <td>0.6970</td>\n",
       "      <td>0.457</td>\n",
       "      <td>1</td>\n",
       "      <td>70</td>\n",
       "      <td>0.4860</td>\n",
       "      <td>170.122</td>\n",
       "    </tr>\n",
       "    <tr>\n",
       "      <th>5Ve4qBYAThGLTOva0hhoTa</th>\n",
       "      <td>So Bad</td>\n",
       "      <td>Eminem</td>\n",
       "      <td>2010</td>\n",
       "      <td>5.42</td>\n",
       "      <td>0.774</td>\n",
       "      <td>0.304000</td>\n",
       "      <td>0.773</td>\n",
       "      <td>0.811</td>\n",
       "      <td>1</td>\n",
       "      <td>0.000000</td>\n",
       "      <td>1</td>\n",
       "      <td>0.1740</td>\n",
       "      <td>0.496</td>\n",
       "      <td>1</td>\n",
       "      <td>59</td>\n",
       "      <td>0.0882</td>\n",
       "      <td>81.037</td>\n",
       "    </tr>\n",
       "    <tr>\n",
       "      <th>6Moso5DtGXmTgS3DaXZrRB</th>\n",
       "      <td>Me Gusta Estar Contigo</td>\n",
       "      <td>Sergio Vega El Shaka</td>\n",
       "      <td>2004</td>\n",
       "      <td>2.31</td>\n",
       "      <td>0.968</td>\n",
       "      <td>0.495000</td>\n",
       "      <td>0.888</td>\n",
       "      <td>0.741</td>\n",
       "      <td>0</td>\n",
       "      <td>0.000000</td>\n",
       "      <td>5</td>\n",
       "      <td>0.0533</td>\n",
       "      <td>0.522</td>\n",
       "      <td>1</td>\n",
       "      <td>54</td>\n",
       "      <td>0.0573</td>\n",
       "      <td>105.789</td>\n",
       "    </tr>\n",
       "    <tr>\n",
       "      <th>49ErwcBYfYRPNBdRuPvpYA</th>\n",
       "      <td>We Are Your Friends - Justice Vs Simian</td>\n",
       "      <td>Justice Simian</td>\n",
       "      <td>2006</td>\n",
       "      <td>4.38</td>\n",
       "      <td>0.507</td>\n",
       "      <td>0.010400</td>\n",
       "      <td>0.615</td>\n",
       "      <td>0.970</td>\n",
       "      <td>0</td>\n",
       "      <td>0.384000</td>\n",
       "      <td>9</td>\n",
       "      <td>0.1780</td>\n",
       "      <td>1.342</td>\n",
       "      <td>0</td>\n",
       "      <td>61</td>\n",
       "      <td>0.1190</td>\n",
       "      <td>122.993</td>\n",
       "    </tr>\n",
       "    <tr>\n",
       "      <th>5PVv4YALJruehQKyAlwjfE</th>\n",
       "      <td>Must Be The Ganja</td>\n",
       "      <td>Eminem</td>\n",
       "      <td>2009</td>\n",
       "      <td>4.05</td>\n",
       "      <td>0.794</td>\n",
       "      <td>0.322000</td>\n",
       "      <td>0.728</td>\n",
       "      <td>0.801</td>\n",
       "      <td>1</td>\n",
       "      <td>0.000000</td>\n",
       "      <td>1</td>\n",
       "      <td>0.2440</td>\n",
       "      <td>0.161</td>\n",
       "      <td>1</td>\n",
       "      <td>54</td>\n",
       "      <td>0.2970</td>\n",
       "      <td>82.657</td>\n",
       "    </tr>\n",
       "    <tr>\n",
       "      <th>5sqkarfxe7UejHTlCtHCLS</th>\n",
       "      <td>Let Me Hear</td>\n",
       "      <td>Fear And Loathing In Las Vegas</td>\n",
       "      <td>2015</td>\n",
       "      <td>3.76</td>\n",
       "      <td>0.303</td>\n",
       "      <td>0.000145</td>\n",
       "      <td>0.175</td>\n",
       "      <td>0.995</td>\n",
       "      <td>0</td>\n",
       "      <td>0.000003</td>\n",
       "      <td>6</td>\n",
       "      <td>0.2140</td>\n",
       "      <td>1.023</td>\n",
       "      <td>0</td>\n",
       "      <td>64</td>\n",
       "      <td>0.2110</td>\n",
       "      <td>184.066</td>\n",
       "    </tr>\n",
       "    <tr>\n",
       "      <th>5mqzhMuUpvnMfwNz6iepmO</th>\n",
       "      <td>Welcome To The Party (With French Montana &amp; Li...</td>\n",
       "      <td>Diplo French Montana Lil Pump Zhavia Ward</td>\n",
       "      <td>2018</td>\n",
       "      <td>3.03</td>\n",
       "      <td>0.486</td>\n",
       "      <td>0.114000</td>\n",
       "      <td>0.618</td>\n",
       "      <td>0.845</td>\n",
       "      <td>1</td>\n",
       "      <td>0.000000</td>\n",
       "      <td>2</td>\n",
       "      <td>0.4150</td>\n",
       "      <td>0.175</td>\n",
       "      <td>1</td>\n",
       "      <td>71</td>\n",
       "      <td>0.1320</td>\n",
       "      <td>171.921</td>\n",
       "    </tr>\n",
       "    <tr>\n",
       "      <th>4PkrQwJUTI6enWI3tDiJMe</th>\n",
       "      <td>Cosas Del Amor</td>\n",
       "      <td>Sergio Vega El Shaka</td>\n",
       "      <td>2004</td>\n",
       "      <td>3.32</td>\n",
       "      <td>0.883</td>\n",
       "      <td>0.152000</td>\n",
       "      <td>0.711</td>\n",
       "      <td>0.815</td>\n",
       "      <td>0</td>\n",
       "      <td>0.000000</td>\n",
       "      <td>2</td>\n",
       "      <td>0.3390</td>\n",
       "      <td>0.197</td>\n",
       "      <td>1</td>\n",
       "      <td>40</td>\n",
       "      <td>0.0524</td>\n",
       "      <td>101.239</td>\n",
       "    </tr>\n",
       "    <tr>\n",
       "      <th>0uqWsfvC6gz7L0BuGajUuv</th>\n",
       "      <td>Payback - Bass Chaserz Remix</td>\n",
       "      <td>Endymion Bass Chaserz</td>\n",
       "      <td>2019</td>\n",
       "      <td>3.96</td>\n",
       "      <td>0.220</td>\n",
       "      <td>0.076200</td>\n",
       "      <td>0.341</td>\n",
       "      <td>0.994</td>\n",
       "      <td>0</td>\n",
       "      <td>0.000000</td>\n",
       "      <td>1</td>\n",
       "      <td>0.3520</td>\n",
       "      <td>0.060</td>\n",
       "      <td>0</td>\n",
       "      <td>0</td>\n",
       "      <td>0.3740</td>\n",
       "      <td>157.607</td>\n",
       "    </tr>\n",
       "    <tr>\n",
       "      <th>4oumhcbfNPdF36OrIfv4YS</th>\n",
       "      <td>Move Ma Body</td>\n",
       "      <td>Atmozfears Demi Kanon</td>\n",
       "      <td>2019</td>\n",
       "      <td>2.67</td>\n",
       "      <td>0.356</td>\n",
       "      <td>0.034800</td>\n",
       "      <td>0.687</td>\n",
       "      <td>0.957</td>\n",
       "      <td>1</td>\n",
       "      <td>0.083000</td>\n",
       "      <td>9</td>\n",
       "      <td>0.4240</td>\n",
       "      <td>0.101</td>\n",
       "      <td>0</td>\n",
       "      <td>8</td>\n",
       "      <td>0.1530</td>\n",
       "      <td>150.055</td>\n",
       "    </tr>\n",
       "    <tr>\n",
       "      <th>1pnuFhrxM4mjNvHdvwA7Mc</th>\n",
       "      <td>La Mentada</td>\n",
       "      <td>Sergio Vega El Shaka</td>\n",
       "      <td>2004</td>\n",
       "      <td>2.75</td>\n",
       "      <td>0.974</td>\n",
       "      <td>0.371000</td>\n",
       "      <td>0.878</td>\n",
       "      <td>0.831</td>\n",
       "      <td>0</td>\n",
       "      <td>0.000125</td>\n",
       "      <td>8</td>\n",
       "      <td>0.0309</td>\n",
       "      <td>1.483</td>\n",
       "      <td>1</td>\n",
       "      <td>43</td>\n",
       "      <td>0.0474</td>\n",
       "      <td>125.964</td>\n",
       "    </tr>\n",
       "    <tr>\n",
       "      <th>5Ugt2Gx8LWkrQoYb3ZMPya</th>\n",
       "      <td>Jab Chumma Mangi</td>\n",
       "      <td>Ramesh Yaduan</td>\n",
       "      <td>2019</td>\n",
       "      <td>3.30</td>\n",
       "      <td>0.673</td>\n",
       "      <td>0.509000</td>\n",
       "      <td>0.606</td>\n",
       "      <td>0.997</td>\n",
       "      <td>0</td>\n",
       "      <td>0.000000</td>\n",
       "      <td>10</td>\n",
       "      <td>0.6560</td>\n",
       "      <td>0.418</td>\n",
       "      <td>1</td>\n",
       "      <td>0</td>\n",
       "      <td>0.3630</td>\n",
       "      <td>74.994</td>\n",
       "    </tr>\n",
       "    <tr>\n",
       "      <th>1J8WH97XXerjrLqOTgoeAx</th>\n",
       "      <td>Musico, Poeta Y Loco</td>\n",
       "      <td>Sergio Vega El Shaka</td>\n",
       "      <td>2004</td>\n",
       "      <td>4.19</td>\n",
       "      <td>0.947</td>\n",
       "      <td>0.428000</td>\n",
       "      <td>0.838</td>\n",
       "      <td>0.725</td>\n",
       "      <td>0</td>\n",
       "      <td>0.000000</td>\n",
       "      <td>10</td>\n",
       "      <td>0.1580</td>\n",
       "      <td>1.073</td>\n",
       "      <td>1</td>\n",
       "      <td>47</td>\n",
       "      <td>0.0357</td>\n",
       "      <td>107.937</td>\n",
       "    </tr>\n",
       "  </tbody>\n",
       "</table>\n",
       "</div>"
      ],
      "text/plain": [
       "                                                                     name  \\\n",
       "id                                                                          \n",
       "68Y3zzmt2XxzheQVGbbJt4                                           Genocide   \n",
       "5Ve4qBYAThGLTOva0hhoTa                                             So Bad   \n",
       "6Moso5DtGXmTgS3DaXZrRB                             Me Gusta Estar Contigo   \n",
       "49ErwcBYfYRPNBdRuPvpYA            We Are Your Friends - Justice Vs Simian   \n",
       "5PVv4YALJruehQKyAlwjfE                                  Must Be The Ganja   \n",
       "5sqkarfxe7UejHTlCtHCLS                                        Let Me Hear   \n",
       "5mqzhMuUpvnMfwNz6iepmO  Welcome To The Party (With French Montana & Li...   \n",
       "4PkrQwJUTI6enWI3tDiJMe                                     Cosas Del Amor   \n",
       "0uqWsfvC6gz7L0BuGajUuv                       Payback - Bass Chaserz Remix   \n",
       "4oumhcbfNPdF36OrIfv4YS                                       Move Ma Body   \n",
       "1pnuFhrxM4mjNvHdvwA7Mc                                         La Mentada   \n",
       "5Ugt2Gx8LWkrQoYb3ZMPya                                   Jab Chumma Mangi   \n",
       "1J8WH97XXerjrLqOTgoeAx                               Musico, Poeta Y Loco   \n",
       "\n",
       "                                                          artists  year  \\\n",
       "id                                                                        \n",
       "68Y3zzmt2XxzheQVGbbJt4                                 Lil Darkie  2019   \n",
       "5Ve4qBYAThGLTOva0hhoTa                                     Eminem  2010   \n",
       "6Moso5DtGXmTgS3DaXZrRB                       Sergio Vega El Shaka  2004   \n",
       "49ErwcBYfYRPNBdRuPvpYA                             Justice Simian  2006   \n",
       "5PVv4YALJruehQKyAlwjfE                                     Eminem  2009   \n",
       "5sqkarfxe7UejHTlCtHCLS             Fear And Loathing In Las Vegas  2015   \n",
       "5mqzhMuUpvnMfwNz6iepmO  Diplo French Montana Lil Pump Zhavia Ward  2018   \n",
       "4PkrQwJUTI6enWI3tDiJMe                       Sergio Vega El Shaka  2004   \n",
       "0uqWsfvC6gz7L0BuGajUuv                      Endymion Bass Chaserz  2019   \n",
       "4oumhcbfNPdF36OrIfv4YS                      Atmozfears Demi Kanon  2019   \n",
       "1pnuFhrxM4mjNvHdvwA7Mc                       Sergio Vega El Shaka  2004   \n",
       "5Ugt2Gx8LWkrQoYb3ZMPya                              Ramesh Yaduan  2019   \n",
       "1J8WH97XXerjrLqOTgoeAx                       Sergio Vega El Shaka  2004   \n",
       "\n",
       "                        duration_min  valence  acousticness  danceability  \\\n",
       "id                                                                          \n",
       "68Y3zzmt2XxzheQVGbbJt4         10.54    0.604      0.085000         0.457   \n",
       "5Ve4qBYAThGLTOva0hhoTa          5.42    0.774      0.304000         0.773   \n",
       "6Moso5DtGXmTgS3DaXZrRB          2.31    0.968      0.495000         0.888   \n",
       "49ErwcBYfYRPNBdRuPvpYA          4.38    0.507      0.010400         0.615   \n",
       "5PVv4YALJruehQKyAlwjfE          4.05    0.794      0.322000         0.728   \n",
       "5sqkarfxe7UejHTlCtHCLS          3.76    0.303      0.000145         0.175   \n",
       "5mqzhMuUpvnMfwNz6iepmO          3.03    0.486      0.114000         0.618   \n",
       "4PkrQwJUTI6enWI3tDiJMe          3.32    0.883      0.152000         0.711   \n",
       "0uqWsfvC6gz7L0BuGajUuv          3.96    0.220      0.076200         0.341   \n",
       "4oumhcbfNPdF36OrIfv4YS          2.67    0.356      0.034800         0.687   \n",
       "1pnuFhrxM4mjNvHdvwA7Mc          2.75    0.974      0.371000         0.878   \n",
       "5Ugt2Gx8LWkrQoYb3ZMPya          3.30    0.673      0.509000         0.606   \n",
       "1J8WH97XXerjrLqOTgoeAx          4.19    0.947      0.428000         0.838   \n",
       "\n",
       "                        energy  explicit  instrumentalness  key  liveness  \\\n",
       "id                                                                          \n",
       "68Y3zzmt2XxzheQVGbbJt4   0.965         1          0.000000    1    0.6970   \n",
       "5Ve4qBYAThGLTOva0hhoTa   0.811         1          0.000000    1    0.1740   \n",
       "6Moso5DtGXmTgS3DaXZrRB   0.741         0          0.000000    5    0.0533   \n",
       "49ErwcBYfYRPNBdRuPvpYA   0.970         0          0.384000    9    0.1780   \n",
       "5PVv4YALJruehQKyAlwjfE   0.801         1          0.000000    1    0.2440   \n",
       "5sqkarfxe7UejHTlCtHCLS   0.995         0          0.000003    6    0.2140   \n",
       "5mqzhMuUpvnMfwNz6iepmO   0.845         1          0.000000    2    0.4150   \n",
       "4PkrQwJUTI6enWI3tDiJMe   0.815         0          0.000000    2    0.3390   \n",
       "0uqWsfvC6gz7L0BuGajUuv   0.994         0          0.000000    1    0.3520   \n",
       "4oumhcbfNPdF36OrIfv4YS   0.957         1          0.083000    9    0.4240   \n",
       "1pnuFhrxM4mjNvHdvwA7Mc   0.831         0          0.000125    8    0.0309   \n",
       "5Ugt2Gx8LWkrQoYb3ZMPya   0.997         0          0.000000   10    0.6560   \n",
       "1J8WH97XXerjrLqOTgoeAx   0.725         0          0.000000   10    0.1580   \n",
       "\n",
       "                        loudness  mode  popularity  speechiness    tempo  \n",
       "id                                                                        \n",
       "68Y3zzmt2XxzheQVGbbJt4     0.457     1          70       0.4860  170.122  \n",
       "5Ve4qBYAThGLTOva0hhoTa     0.496     1          59       0.0882   81.037  \n",
       "6Moso5DtGXmTgS3DaXZrRB     0.522     1          54       0.0573  105.789  \n",
       "49ErwcBYfYRPNBdRuPvpYA     1.342     0          61       0.1190  122.993  \n",
       "5PVv4YALJruehQKyAlwjfE     0.161     1          54       0.2970   82.657  \n",
       "5sqkarfxe7UejHTlCtHCLS     1.023     0          64       0.2110  184.066  \n",
       "5mqzhMuUpvnMfwNz6iepmO     0.175     1          71       0.1320  171.921  \n",
       "4PkrQwJUTI6enWI3tDiJMe     0.197     1          40       0.0524  101.239  \n",
       "0uqWsfvC6gz7L0BuGajUuv     0.060     0           0       0.3740  157.607  \n",
       "4oumhcbfNPdF36OrIfv4YS     0.101     0           8       0.1530  150.055  \n",
       "1pnuFhrxM4mjNvHdvwA7Mc     1.483     1          43       0.0474  125.964  \n",
       "5Ugt2Gx8LWkrQoYb3ZMPya     0.418     1           0       0.3630   74.994  \n",
       "1J8WH97XXerjrLqOTgoeAx     1.073     1          47       0.0357  107.937  "
      ]
     },
     "execution_count": 78,
     "metadata": {},
     "output_type": "execute_result"
    }
   ],
   "source": [
    "df_song.query(\"\tloudness>0\")"
   ]
  },
  {
   "cell_type": "markdown",
   "id": "ec01e3e4-ebe8-4aa9-9fc0-412c532a35ff",
   "metadata": {},
   "source": [
    "Here I have detected unusual stuff that is 3 tracks over 0 db in loudness wihich is unusual, and I have also noticed that all those tracks have \n",
    "high energy (mostly ~ 0.9) which explains that unnusual behaviour.\n",
    "\n",
    "We will keep those 13 songs in our df as they are negligible and wont affect much in our analysis"
   ]
  },
  {
   "cell_type": "code",
   "execution_count": 100,
   "id": "ac1d7a5c-8c16-4619-86d9-f3b3729e59a7",
   "metadata": {},
   "outputs": [
    {
     "data": {
      "text/plain": [
       "name                 object\n",
       "artists              object\n",
       "year                  int64\n",
       "duration_min        float64\n",
       "valence             float64\n",
       "acousticness        float64\n",
       "danceability        float64\n",
       "energy              float64\n",
       "explicit              int64\n",
       "instrumentalness    float64\n",
       "key                   int64\n",
       "liveness            float64\n",
       "loudness            float64\n",
       "mode                  int64\n",
       "popularity            int64\n",
       "speechiness         float64\n",
       "tempo               float64\n",
       "dtype: object"
      ]
     },
     "execution_count": 100,
     "metadata": {},
     "output_type": "execute_result"
    }
   ],
   "source": [
    "df_song.dtypes"
   ]
  },
  {
   "cell_type": "code",
   "execution_count": 109,
   "id": "35da539e-1258-4264-932e-a6e524fbfa6f",
   "metadata": {},
   "outputs": [
    {
     "data": {
      "text/plain": [
       "np.int64(12)"
      ]
     },
     "execution_count": 109,
     "metadata": {},
     "output_type": "execute_result"
    }
   ],
   "source": [
    "# In key there are only 12 range from 0 to 11 and lets validate it\n",
    "\n",
    "df_song.value_counts('key').count()"
   ]
  },
  {
   "cell_type": "markdown",
   "id": "fe024baa-995e-4153-af37-969793cc57e8",
   "metadata": {},
   "source": [
    "Now push back this cleaned df into sql db"
   ]
  },
  {
   "cell_type": "code",
   "execution_count": 117,
   "id": "7ea974b0-cbf5-448e-a264-340bc45c45fd",
   "metadata": {},
   "outputs": [
    {
     "data": {
      "text/plain": [
       "39"
      ]
     },
     "execution_count": 117,
     "metadata": {},
     "output_type": "execute_result"
    }
   ],
   "source": [
    "df_song.to_sql(\n",
    "    name = 'spotify_tracks_cleaned',\n",
    "    con = engine,\n",
    "    index = False,\n",
    "    if_exists = 'replace'\n",
    ")"
   ]
  },
  {
   "cell_type": "markdown",
   "id": "0d8e76d4-26de-4e65-b2bd-d515c66ad054",
   "metadata": {},
   "source": [
    "After pushing it to sql the id column which i set as index will get removed in sql in next time in another notebook i fetch df_song id column will  not be there, here i could just reset index and then push it but it's of no use as spotify provided me another index as primary key of whole numbers."
   ]
  }
 ],
 "metadata": {
  "kernelspec": {
   "display_name": "Python [conda env:base] *",
   "language": "python",
   "name": "conda-base-py"
  },
  "language_info": {
   "codemirror_mode": {
    "name": "ipython",
    "version": 3
   },
   "file_extension": ".py",
   "mimetype": "text/x-python",
   "name": "python",
   "nbconvert_exporter": "python",
   "pygments_lexer": "ipython3",
   "version": "3.13.5"
  }
 },
 "nbformat": 4,
 "nbformat_minor": 5
}
