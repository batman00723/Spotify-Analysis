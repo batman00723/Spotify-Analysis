{
 "cells": [
  {
   "cell_type": "code",
   "execution_count": null,
   "id": "b2a44756-f604-45e8-a474-3752b01ae442",
   "metadata": {},
   "outputs": [],
   "source": [
    "import pandas as pd\n",
    "import os\n",
    "from sqlalchemy import create_engine\n",
    "import urllib\n",
    "import matplotlib.pyplot as plt\n",
    "import seaborn as sns\n",
    "sns.set_theme(style=\"whitegrid\", palette='crest')\n",
    "import plotly.express as px\n",
    "\n",
    "server = 'AMAN\\\\SQLEXPRESS'   \n",
    "database = 'SpotifyDB'\n",
    "\n",
    " \n",
    "params = urllib.parse.quote_plus('DRIVER={ODBC Driver 17 for SQL Server};SERVER=' + server + ';DATABASE=' + database + ';Trusted_Connection=yes;')\n",
    "engine = create_engine(\"mssql+pyodbc:///?odbc_connect=%s\" % params)"
   ]
  },
  {
   "cell_type": "code",
   "execution_count": null,
   "id": "3e9c8fd5-1837-4613-91ba-1f07bf2b009c",
   "metadata": {},
   "outputs": [],
   "source": [
    "df_song = pd.read_sql('SELECT * FROM spotify_tracks_cleaned', engine)"
   ]
  },
  {
   "cell_type": "code",
   "execution_count": null,
   "id": "1bd71cb0-aa0c-4343-8c6d-fbc5db8ef52c",
   "metadata": {
    "scrolled": true
   },
   "outputs": [],
   "source": [
    "df_song"
   ]
  },
  {
   "cell_type": "code",
   "execution_count": null,
   "id": "92d87296-8269-40eb-ac79-5a966a9a3ee3",
   "metadata": {},
   "outputs": [],
   "source": [
    "# Total no of artists and tracks in df \n",
    "\n",
    "df_song[['artist_name', 'track_name']].nunique()"
   ]
  },
  {
   "cell_type": "code",
   "execution_count": null,
   "id": "7b3f3199-2f14-4c98-b3b8-be0c99a4b3df",
   "metadata": {},
   "outputs": [],
   "source": [
    "df_song.describe()"
   ]
  },
  {
   "cell_type": "markdown",
   "id": "2732e0ba-62d8-4cc7-83cb-ccc3f222f4f3",
   "metadata": {},
   "source": [
    "### Trends over time"
   ]
  },
  {
   "cell_type": "code",
   "execution_count": null,
   "id": "7d5df2d9-8a40-463b-a289-123c67240610",
   "metadata": {},
   "outputs": [],
   "source": [
    "# Average duration over time(normal average)\n",
    "\n",
    "df_average_duration = pd.read_sql(\"SELECT release_year,AVG(duration_min) [Avg Track duration] FROM spotify_tracks_cleaned GROUP BY release_year ORDER BY release_year\", engine)\n",
    "\n",
    "#df_average_duration.plot(kind = 'line', x = 'release_year', y = 'Avg Track duration', xlabel = 'year', ylabel = 'duration in min', legend = False, title = 'Duration trend over years')\n",
    "\n",
    " \n",
    "sns.lineplot( x = 'release_year', y = 'Avg Track duration', data = df_average_duration)\n",
    "plt.xlabel(\"Year\")\n",
    "plt.ylabel(\"duration in min\")\n",
    "plt.title(\"Duration trend over years\", weight = 'bold')\n",
    "plt.tight_layout()\n",
    "plt.show()"
   ]
  },
  {
   "cell_type": "code",
   "execution_count": null,
   "id": "53eef240-1ab8-404a-8350-e7b316e5339f",
   "metadata": {},
   "outputs": [],
   "source": [
    "# Average duration over time(running average)"
   ]
  },
  {
   "cell_type": "code",
   "execution_count": null,
   "id": "abc43694-b84b-4e5f-afb9-cce9cee5bc37",
   "metadata": {},
   "outputs": [],
   "source": [
    "df_rolling_average_duration = pd.read_sql(\"SELECT release_year, AVG([Avg Duration]) OVER( Order by release_year ROWS BETWEEN 3 PRECEDING AND CURRENT ROW) [Rolling Avg] FROM ( SELECT release_year, AVG(duration_min) [Avg Duration]  FROM spotify_tracks_cleaned GROUP BY release_year)t\", engine)\n",
    "# df_rolling_average_duration.plot(kind = 'line', x = 'release_year', y ='Rolling Avg', xlabel = 'year', ylabel = 'duration in min', legend = False, title = 'Duration trend over years(Rollling)' )\n",
    "\n",
    "sns.lineplot(x = 'release_year', y ='Rolling Avg', data = df_rolling_average_duration)\n",
    "plt.xlabel('Year')\n",
    "plt.ylabel('duration (min)')\n",
    "plt.title('Duration trend over years', weight = 'bold')\n",
    "plt.tight_layout()\n",
    "plt.show()"
   ]
  },
  {
   "cell_type": "code",
   "execution_count": null,
   "id": "40abbf39-609d-4463-a34e-aca8ce92ed5c",
   "metadata": {},
   "outputs": [],
   "source": [
    "df_song['track_name'][df_song['release_year']>2012].count()"
   ]
  },
  {
   "cell_type": "markdown",
   "id": "01e282ec-4d96-4920-89b1-76c212e75bf9",
   "metadata": {},
   "source": [
    "Here in above graph we can see sharp decline in avergae duration from 2012 so I investigated if there is low sample size but turns out sample size is pretty large so the decline is nattural"
   ]
  },
  {
   "cell_type": "code",
   "execution_count": null,
   "id": "c71a9ce3-b2e6-4444-849c-d8864bbf6f81",
   "metadata": {},
   "outputs": [],
   "source": [
    "# Average Energy trend over years\n",
    "\n",
    "df_rolling_average_energy = pd.read_sql(\"SELECT release_year, AVG([Avg Energy]) OVER(ORDER BY release_year ROWS BETWEEN 2 PRECEDING AND CURRENT ROW) [Rolling Avg] FROM ( SELECT  release_year, AVG(energy) [Avg Energy] FROM spotify_tracks_cleaned GROUP BY release_year)t\",engine)\n",
    "# df_rolling_average_energy.plot(kind = 'line' , x = 'release_year', y = 'Rolling Avg',xlabel = 'year', ylabel = 'energy (0-1)', legend = False, title = 'Energy trend over years')\n",
    "\n",
    "sns.lineplot(x = 'release_year', y = 'Rolling Avg', data = df_rolling_average_energy)\n",
    "plt.xlabel('Year')\n",
    "plt.ylabel('energy (0-1)')\n",
    "plt.title('Energy trend over years', weight = 'bold')\n",
    "plt.tight_layout()\n",
    "plt.show()"
   ]
  },
  {
   "cell_type": "markdown",
   "id": "18eface9-0f7c-45e9-9135-81f174837843",
   "metadata": {},
   "source": [
    "Here we can see from 1995 energy in songs started to increase thanks to edm and rise of hip hop songs and from 2010 average energy has been declined because of introduction of lofi, indie music"
   ]
  },
  {
   "cell_type": "code",
   "execution_count": null,
   "id": "c4ad2dfd-2c02-406c-a27b-5643c742a969",
   "metadata": {},
   "outputs": [],
   "source": [
    "#df_average_acousticness = pd.read_sql(\"SELECT release_year, AVG(acousticness) [Avg Acousticness] FROM spotify_tracks_cleaned GROUP BY release_year ORDER BY release_year\",engine)\n",
    "\n",
    "#df_average_acousticness.plot(kind = 'line', x = 'release_year' , y= 'Avg Acousticness')\n",
    "\n",
    "#sns.lineplot(x = 'release_year', y = 'Avg Acousticness', data = df_average_acousticness)\n",
    "#plt.xlabel('Year')\n",
    "#plt.ylabel('Acousticness')\n",
    "#plt.title('Acousticness trend over years', weight = 'bold')\n",
    "#plt.tight_layout()\n",
    "#plt.show()"
   ]
  },
  {
   "cell_type": "code",
   "execution_count": null,
   "id": "9b09b8f6-f7bd-4499-84f3-05e36f8cbf4c",
   "metadata": {},
   "outputs": [],
   "source": [
    "df_rolling_average_acousticnes = pd.read_sql(\"SELECT  release_year, AVG([Avg Acousticness]) OVER(Order By release_year ROWS BETWEEN 9 Preceding and Current Row) [Rolling Acousticness] FROM ( SELECT release_year, AVG(acousticness) [Avg Acousticness] FROM spotify_tracks_cleaned GROUP BY release_year)t\", engine)\n",
    "df_rolling_average_acousticnes.plot(kind = 'line', x = 'release_year' , y= 'Rolling Acousticness', xlabel = 'Year', ylabel = 'Acousticness(0-1)',legend = False)\n",
    "\n",
    "sns.lineplot(x = 'release_year', y = 'Rolling Acousticness', data = df_rolling_average_acousticnes, legend = False)\n",
    "plt.xlabel('Year')\n",
    "plt.ylabel('Acousticness')\n",
    "plt.title('Acousticness trend over years', weight = 'bold')\n",
    "plt.tight_layout()\n",
    "plt.show()"
   ]
  },
  {
   "cell_type": "markdown",
   "id": "aae702fe-a497-4926-8b97-e5f0ccc51685",
   "metadata": {},
   "source": [
    "Observation:\n",
    "\n",
    "“Between 2010 and 2020, both the energy and acousticness of tracks declined.\n",
    "This may seem counterintuitive — we’d expect lower-energy songs to be more acoustic.\n",
    "However, this reflects the rise of digitally produced genres like lo-fi and ambient pop, which sound relaxed but are still electronic in nature.”"
   ]
  },
  {
   "cell_type": "markdown",
   "id": "5176cfda-e88e-400a-b1a1-6ea793816a57",
   "metadata": {},
   "source": [
    "📈 The trend over time\n",
    "\n",
    "1. 1960s–1970s:\n",
    "High acousticness. Rock, folk, jazz, and soul used real instruments — drums, guitars, pianos, horns — so the acousticness score was typically high.\n",
    "\n",
    "2. 1980s–2000s:\n",
    "A decline in acousticness. Synthesizers, drum machines, and digital production became dominant. Genres like synth-pop, hip-hop, and EDM brought acousticness down sharply.\n",
    "\n",
    "3. 2010s–now:\n",
    "A slight rebound.\n",
    "\n",
    "Around the mid-2010s, artists like Ed Sheeran, Adele, and many indie/folk acts brought acoustic sounds back into pop.\n",
    "\n",
    "However, overall acousticness in mainstream charts (like Spotify Top 50) remains much lower than in the 1980s.\n",
    "\n",
    "Even acoustic-sounding tracks often mix in digital instruments or effects, so they’re not purely “acoustic.”"
   ]
  },
  {
   "cell_type": "code",
   "execution_count": null,
   "id": "7aa860b9-cd40-4d12-88f1-4bedbd3b2ed7",
   "metadata": {},
   "outputs": [],
   "source": [
    "# Average Rolling Loudness in songs\n",
    "\n",
    "df_rolling_average_loudness = pd.read_sql(\"SELECT release_year, AVG([Avg Loudness]) OVER(Order by release_year ROWS BETWEEN 5 PRECEDING AND CURRENT ROW) [Rolling Loudness] FROM ( SELECT release_year, AVG(loudness) [Avg Loudness] FROM spotify_tracks_cleaned GROUP BY release_year )t\", engine)\n",
    "#df_rolling_average_loudness.plot(kind = 'line', x= 'release_year', y= 'Rolling Loudness')\n",
    "\n",
    "sns.lineplot(x= 'release_year', y= 'Rolling Loudness', data = df_rolling_average_loudness, legend = False)\n",
    "plt.xlabel('Year')\n",
    "plt.ylabel('Loudness')\n",
    "plt.title('Loudness trend over years', weight = 'bold')\n",
    "plt.tight_layout()\n",
    "plt.show()"
   ]
  },
  {
   "cell_type": "markdown",
   "id": "6dfb8363-87a3-4c7d-9c6b-ceb1b825420a",
   "metadata": {},
   "source": [
    "We can clearly see over the time average loudness of the songs have increased because louder songs tend to grab attention quickly and in this age of short attention span tracks need to have loudness to catch their goldfish attention and this change in average loudness is called \"Loudness War\""
   ]
  },
  {
   "cell_type": "code",
   "execution_count": null,
   "id": "7dab1da6-9cc6-4a41-a42c-5d9100af1682",
   "metadata": {},
   "outputs": [],
   "source": [
    "df_rolling_average_danceability = pd.read_sql(\"SELECT release_year, AVG([Avg danceabillity]) OVER(ORDER BY release_year ROWS BETWEEN 4 PRECEDING AND CURRENT ROW) [Rolling Danceability], AVG([Avg tempo bpm]) OVER(ORDER BY release_year ROWS BETWEEN 2 PRECEDING AND CURRENT ROW) [Rolling Tempo bpm] FROM (\tSELECT\trelease_year,\tAVG(danceability) [Avg danceabillity],\tAVG(tempo_bpm) [Avg tempo bpm]\tFROM spotify_tracks_cleaned\tGROUP BY release_year\t)t\", engine)\n",
    "\n",
    "# df_rolling_average_danceability.plot(kind = 'line', x= 'release_year', y = 'Rolling Danceability')\n",
    "\n",
    "sns.lineplot(x= 'release_year', y = 'Rolling Danceability', data = df_rolling_average_danceability, legend = False)\n",
    "plt.xlabel('Year')\n",
    "plt.ylabel('Danceability')\n",
    "plt.title('Danceability trend over Years', weight = 'bold')\n",
    "plt.tight_layout()\n",
    "plt.show()"
   ]
  },
  {
   "cell_type": "markdown",
   "id": "3eec32c2-f3c6-44a2-b587-2d35af03fa6d",
   "metadata": {},
   "source": [
    "Here we can see over the decades danceability of songs have increased making them more danceable, from early 2000s onwards due to rise of electronic, hip-hop, and pop genres that emphasize rhythm and movement."
   ]
  },
  {
   "cell_type": "code",
   "execution_count": null,
   "id": "2b15ff81-e954-42ec-bec0-49cbcaac9d97",
   "metadata": {},
   "outputs": [],
   "source": [
    "df_rolling_average_tempo = pd.read_sql(\"SELECT release_year, AVG([Avg danceabillity]) OVER(ORDER BY release_year ROWS BETWEEN 4 PRECEDING AND CURRENT ROW) [Rolling Danceability], AVG([Avg tempo bpm]) OVER(ORDER BY release_year ROWS BETWEEN 3 PRECEDING AND CURRENT ROW) [Rolling Tempo bpm] FROM (\tSELECT\trelease_year,\tAVG(danceability) [Avg danceabillity],\tAVG(tempo_bpm) [Avg tempo bpm]\tFROM spotify_tracks_cleaned\tGROUP BY release_year\t)t\", engine)\n",
    "\n",
    "#df_rolling_average_tempo.plot(kind = 'line', x= 'release_year', y = 'Rolling Tempo bpm')\n",
    "\n",
    "sns.lineplot(x= 'release_year', y = 'Rolling Tempo bpm', data = df_rolling_average_tempo, legend = False)\n",
    "plt.xlabel('Year')\n",
    "plt.ylabel('Tempo')\n",
    "plt.title('Tempo trend over Years', weight = 'bold')\n",
    "plt.tight_layout()\n",
    "plt.show()"
   ]
  },
  {
   "cell_type": "markdown",
   "id": "5425136e-b233-424a-92e4-cf86866dbaf3",
   "metadata": {},
   "source": [
    "Average tempo has edcreased over decades which was not expected as danceability and loudness has increased over decades but it has shown increase from 2000s due to rise in dance pop era and they were slightly faster and from 2010 tempo has decreased so over decades we can say that tempo is more or less stagnant with slight decrease in comparison to 1990s."
   ]
  },
  {
   "cell_type": "markdown",
   "id": "b11a1bad-7b95-4059-b3b9-e5dde63df7ca",
   "metadata": {},
   "source": [
    "Now for key analysis"
   ]
  },
  {
   "cell_type": "code",
   "execution_count": null,
   "id": "7e1af05b-98cd-441d-bbcb-fc7cc7c8ddaf",
   "metadata": {},
   "outputs": [],
   "source": [
    "key_map = {0:'C', 1:'C#', 2:'D', 3:'D#', 4:'E', 5:'F', 6:'F#', 7:'G', 8:'G#', 9:'A', 10:'A#', 11:'B'}\n",
    "df_song['key_name'] = df_song['key'].map(key_map)\n",
    "df_song.to_sql(\n",
    "    name = 'spotify_tracks_cleaned',\n",
    "    con = engine,\n",
    "    index = False,\n",
    "    if_exists = 'replace'\n",
    ")"
   ]
  },
  {
   "cell_type": "markdown",
   "id": "0b84f1be-01cf-45b3-8777-80557c2511ac",
   "metadata": {},
   "source": [
    "What will be my approach: for most used musical key over decade like on an averagge "
   ]
  },
  {
   "cell_type": "code",
   "execution_count": null,
   "id": "c9afa1dc-1d4b-4427-938b-766fb3e53ae0",
   "metadata": {},
   "outputs": [],
   "source": [
    "df_keys_1980s = pd.read_sql(\"SELECT TOP 4 key_name,COUNT(key_name) [Count of keys pre 1990s] FROM spotify_tracks_cleaned WHERE release_year <=1990 GROUP BY key_name ORDER BY COUNT(key_name) DESC \", engine)\n",
    "\n",
    "# df_keys_1980s.plot(kind = 'bar', x='key_name', y= 'Count of keys pre 1990s', legend = False)\n",
    "\n",
    "\n",
    "\n",
    "#px.bar(x='key_name', y= 'Count of keys pre 1990s', data_frame = df_keys_1980s, width=700, height=500,title = 'Key Count', labels = {'key_name': 'Key Name', 'Count of keys pre 1990s':'Count'})\n",
    "\n",
    "sns.barplot(x='key_name', y= 'Count of keys pre 1990s', data = df_keys_1980s)\n",
    "plt.xlabel('Key Name')\n",
    "plt.ylabel('Count')\n",
    "plt.title('Top 4 Keys pre 1990s', weight = 'bold')\n",
    "plt.show()"
   ]
  },
  {
   "cell_type": "markdown",
   "id": "626b989b-8292-4844-aace-315e4da38928",
   "metadata": {},
   "source": [
    "These A C G D keys were popular back then in 80s because of rising bands and they are also guitar and keyboard friendly, and we can proove that, that era was dominated by pop- rock bands like U2, Bon Jovi, and The Smiths"
   ]
  },
  {
   "cell_type": "code",
   "execution_count": null,
   "id": "da1cf334-4ed7-4dcb-b7b5-457a3e2e054a",
   "metadata": {},
   "outputs": [],
   "source": [
    "# Keys that dominated in 1990s\n",
    "\n",
    "df_keys_1990s = pd.read_sql(\"\"\"SELECT TOP 4 key_name,\n",
    "COUNT(key_name) [Count of keys in 1990s]\n",
    "FROM spotify_tracks_cleaned\n",
    "WHERE release_year <=2000 AND release_year >1990\n",
    "GROUP BY key_name\n",
    "ORDER BY COUNT(key_name) DESC \n",
    "\"\"\", engine)\n",
    "\n",
    "#df_keys_1990s.plot(kind = 'bar', x='key_name', y= 'Count of keys in 1990s', legend = False)\n",
    "\n",
    "#px.bar(x='key_name', y= 'Count of keys in 1990s', data_frame = df_keys_1990s, width=700, height=500,title = 'Key Count', labels = {'key_name': 'Key Name', 'Count of keys in 1990s':'Count'})\n",
    "\n",
    "sns.barplot(x='key_name', y= 'Count of keys in 1990s', data = df_keys_1990s)\n",
    "plt.xlabel('Key Name')\n",
    "plt.ylabel('Count')\n",
    "plt.title('Top 4 Keys in 1990s', weight = 'bold')\n",
    "plt.show()"
   ]
  },
  {
   "cell_type": "markdown",
   "id": "32f69e77-ab11-48c6-ab6c-7669b4d8315c",
   "metadata": {},
   "source": [
    "Notice how G key has become most dominant in 1990s as compared to 1980s this shows inclination towards rock grunge music which was perfect for guitar strumming and solo performance which was guitar heavy and reducing keyboard dependancy alnog side with Keys C, A and D which dominated 90s with artists like Nirvana, Green Day, Oasis, R.E.M., Backstreet Boys, Spice Girls."
   ]
  },
  {
   "cell_type": "code",
   "execution_count": null,
   "id": "122aaa69-17f9-42b8-8161-5edaac0155c3",
   "metadata": {},
   "outputs": [],
   "source": [
    "# Keys in 2000s \n",
    "\n",
    "df_keys_2000s = pd.read_sql(\"\"\"SELECT TOP 4 key_name,\n",
    "COUNT(key_name) [Count of keys in 2000s]\n",
    "FROM spotify_tracks_cleaned\n",
    "WHERE release_year <=2010 AND release_year >2000\n",
    "GROUP BY key_name\n",
    "ORDER BY COUNT(key_name) DESC \n",
    "\"\"\", engine)\n",
    "\n",
    "#df_keys_2000s.plot(kind = 'bar', x='key_name', y= 'Count of keys in 2000s', legend = False)\n",
    "\n",
    "#px.bar(x='key_name', y= 'Count of keys in 2000s', data_frame = df_keys_2000s, width=700, height=500,title = 'Key Count', labels = {'key_name': 'Key Name', 'Count of keys in 2000s':'Count'})\n",
    "\n",
    "sns.barplot(x='key_name', y= 'Count of keys in 2000s', data = df_keys_2000s)\n",
    "plt.xlabel('Key Name')\n",
    "plt.ylabel('Count')\n",
    "plt.title('Top 4 Keys in 2000s', weight = 'bold')\n",
    "plt.show()"
   ]
  },
  {
   "cell_type": "markdown",
   "id": "ef27269d-9cf5-4e8c-ad89-e9a903b9f246",
   "metadata": {},
   "source": [
    "In 2000s it was almost same like 1990s with artists U2, Linkin Park."
   ]
  },
  {
   "cell_type": "code",
   "execution_count": null,
   "id": "d49191f5-ad4b-47a4-b4b2-70f401b49eee",
   "metadata": {},
   "outputs": [],
   "source": [
    "# Keys in 2010-now \n",
    "\n",
    "df_keys_post_2010 = pd.read_sql(\"\"\"SELECT TOP 4 key_name,\n",
    "COUNT(key_name) [Count of keys post 2010]\n",
    "FROM spotify_tracks_cleaned\n",
    "WHERE release_year >2010\n",
    "GROUP BY key_name\n",
    "ORDER BY COUNT(key_name) DESC \n",
    "\"\"\", engine)\n",
    "\n",
    "#df_keys_post_2010.plot(kind = 'bar', x='key_name', y= 'Count of keys post 2010', legend = False)\n",
    "\n",
    "#px.bar(x='key_name', y= 'Count of keys post 2010', data_frame = df_keys_post_2010, width=700, height=500,title = 'Key Count', labels = {'key_name': 'Key Name', 'Count of keys post 2010':'Count'})\n",
    "\n",
    "sns.barplot(x='key_name', y= 'Count of keys post 2010', data = df_keys_post_2010)\n",
    "plt.xlabel('Key Name')\n",
    "plt.ylabel('Count')\n",
    "plt.title('Top 4 Keys post 2010s', weight = 'bold')\n",
    "plt.show()"
   ]
  },
  {
   "cell_type": "markdown",
   "id": "815f98ea-0bec-429f-8dd3-bdf3efbd4eb6",
   "metadata": {},
   "source": [
    "Here in recent times post 2010 we can clearly see that C# major came out to be most frequntly used key, it has overtaken guitar friendly keys, artists which used these keys in their tracks are Calvin Harris, Dua Lipa. This shows digitally produced and electronic tracks along side C, G, D major which are guitar centric keys which were also dominant bacause of artists like Ed Sheeran, Adele, Bruno Mars, Coldplay, Imagine Dragons.\n",
    "This era, we can say it as Spotify era- it was not just digital and guitar centric because audince wanted everything in this era"
   ]
  },
  {
   "cell_type": "raw",
   "id": "525269fe-2f9e-4e85-ac65-5e0d9f9357c4",
   "metadata": {
    "jp-MarkdownHeadingCollapsed": true
   },
   "source": [
    "### Actionable insights for Spotify\n",
    "\n",
    "Analysing key distributions over 4 decades spotify can inform it's curation, recomendation algo and team.\n",
    "Also over decades energy ,danceability and loudness has also increased means spotify can curate playlists for modern listeners and for millenials who like older songs spotify can recomend them songs like those of older trends we have seen.\n",
    "Also duration trend also shows that shortening the attenttion spans over decades and in modern times listeners want more loud, dancable, and energetic songs, listeners want to enjoy song in shorter time and move on to next songs, this shortening of songs is also due to introducction of short form content applications like tik-tok. In tik-tok there is arrangement of dance to songs so to hook consumer they need to make watcher hooked into their 30 sec content, so they use catchy hook of songs, more loud, energetic, and more dancable songs as they tend to grab attention quickly.\n",
    "Importantly, key analysis shows in modern times coexistence of electronic friendly and guitar friendly keys. This indicates that modern tracks are electronically produced and also for band driven acoustic arrangements.\n",
    "Because in modern times users atttention span has shortened so artists need to make songs that are cachy from 1st second. So spotify needs to recomend those those songs to gen-z listeners, also listeners who prefer older songs soptify can make its recomandation system better to make users to use spotify more and more.\n",
    "\n",
    "Overall this part of analysis will support Spotify's personalisation and user engagement."
   ]
  },
  {
   "cell_type": "markdown",
   "id": "ee4b5936-e9be-4429-83f3-7b8dc9376620",
   "metadata": {},
   "source": [
    "## Correlations \n",
    "This part of analysis will help to identify how mucal features corelate with each other and what makes a song hit or flop. This helps us to detect emerging trends and optimize playlist curation"
   ]
  },
  {
   "cell_type": "code",
   "execution_count": null,
   "id": "df533957-c629-4103-a553-770b33ef9690",
   "metadata": {},
   "outputs": [],
   "source": [
    "features = ['energy','loudness','danceability','tempo_bpm','acousticness','popularity']\n",
    "\n",
    "correlation_matrix = df_song[features].corr()\n",
    "\n",
    "correlation_matrix"
   ]
  },
  {
   "cell_type": "code",
   "execution_count": null,
   "id": "da7e3a9a-b43f-42c3-bfbf-4207dfbd003e",
   "metadata": {},
   "outputs": [],
   "source": [
    "# Decade wise correlation\n",
    "\n",
    "df_song['decade'] = (df_song['release_year']//10)*10\n",
    "\n",
    "decade_corr = df_song.groupby('decade')[features].corr().unstack()\n",
    "\n",
    "decade_corr"
   ]
  },
  {
   "cell_type": "code",
   "execution_count": null,
   "id": "42846b7a-b314-491a-9595-49afeada7e71",
   "metadata": {},
   "outputs": [],
   "source": [
    "import seaborn as sns\n",
    "import matplotlib.pyplot as plt"
   ]
  },
  {
   "cell_type": "code",
   "execution_count": null,
   "id": "5f681569-52f4-4a41-9b6d-8401156bcc11",
   "metadata": {},
   "outputs": [],
   "source": [
    "plt.figure(figsize = (10,5))\n",
    "\n",
    "sns.heatmap(correlation_matrix, annot = True, cmap = 'coolwarm', fmt = \".2f\")\n",
    "plt.title(\"Overall Correlation of Musical Features and Popularity\")\n",
    "plt.show()\n",
    "          "
   ]
  },
  {
   "cell_type": "markdown",
   "id": "f6e5029a-c8d6-4c3c-b441-0b096e1c67ab",
   "metadata": {},
   "source": [
    "Here we can confidently say that popularity of songs are not determined by Musical Features- hit songs are mix of marketing, artist fan following, trends and placement of playlists on streaming platforms.\n",
    "Spotify recomendation engine should focus on user behaviour, trends and artists prefrence, and by analysing all musical features we can conclude:\n",
    "\n",
    "1.) Loud Songs are mostly energetic and can be dancable\n",
    "\n",
    "2.) Acoustic songs have low energy and loudnness - acoustic tracks are genrally are softer and have low energy. \n",
    "\n",
    "3.) Tempo of a track doesn't largely depend upon any of the musical featuers"
   ]
  },
  {
   "cell_type": "markdown",
   "id": "c47a8b14-3336-4fb6-a437-4028fff531c1",
   "metadata": {},
   "source": [
    "## Actionable Insights for Spotify:\n",
    "\n",
    "1.) Personalise recomendation based on user behaviour, prefrence, trends, hype rather than musical features\n",
    "\n",
    "2.) Spotify can curate energetic and loud tracks for party and gym playlists and in contrast acoustic and chill     playlists."
   ]
  },
  {
   "cell_type": "markdown",
   "id": "f2a868cd-3e93-408f-adbc-7ea18f407ba4",
   "metadata": {},
   "source": [
    "## Popularity Insights"
   ]
  },
  {
   "cell_type": "markdown",
   "id": "fa92eb92-bedf-4a1f-9475-b8c74c6157e8",
   "metadata": {},
   "source": [
    "#### Average popularity by decade"
   ]
  },
  {
   "cell_type": "code",
   "execution_count": null,
   "id": "bc4651ac-fbc2-47f6-8f7a-c7c8869615cd",
   "metadata": {},
   "outputs": [],
   "source": [
    "df_popularity_trend_by_decade = df_song[['popularity', 'decade']].groupby('decade').mean()\n",
    "\n",
    "#df_popularity_trend_by_decade.plot(kind = 'line', xlabel = 'Year', ylabel = 'Avg Popularity', legend = False)\n",
    "\n",
    "sns.lineplot(data = df_popularity_trend_by_decade, x = 'decade', y = 'popularity')\n",
    "plt.xlabel('Decade')\n",
    "plt.ylabel('Avg Popularity')\n",
    "plt.title('Popularity trend per Decade', weight = 'bold')\n",
    "plt.tight_layout()\n",
    "plt.show()"
   ]
  },
  {
   "cell_type": "markdown",
   "id": "4d4326b5-70d5-4a0c-ad4f-f861090a1c40",
   "metadata": {},
   "source": [
    "Here we can confidently say that users are engaging and listening more to newer tracks post 2010, rather than old tracks because of change in production quality, marketing, digital streaming platforms.\n",
    "\n",
    "So Spotify should recommend more of newer songs to listeners and older hits can be curated in nostalgia playlists"
   ]
  },
  {
   "cell_type": "markdown",
   "id": "9b93fd0d-a4e8-4cb5-99ad-9dd0db791f9f",
   "metadata": {},
   "source": [
    "#### Top musical features among popular songs"
   ]
  },
  {
   "cell_type": "code",
   "execution_count": null,
   "id": "70a311c8-d37a-477d-b19a-8783ba1df497",
   "metadata": {},
   "outputs": [],
   "source": [
    "# Here we dont want popularity in features list we defined earlier\n",
    "features.pop(-1)"
   ]
  },
  {
   "cell_type": "code",
   "execution_count": null,
   "id": "98328ab6-d71b-49d0-8d3a-b8906db515e4",
   "metadata": {},
   "outputs": [],
   "source": [
    "features"
   ]
  },
  {
   "cell_type": "code",
   "execution_count": null,
   "id": "c49e9463-fd8f-4695-9473-39c503833e69",
   "metadata": {},
   "outputs": [],
   "source": [
    "df_metrics_of_popular_tracks = pd.read_sql(\"\"\"SELECT \n",
    "AVG(energy)  [Avg Energy],\n",
    "AVG(acousticness)  [Avg acousticness],\n",
    "AVG(duration_min) [Avg duration]\n",
    "FROM spotify_tracks_cleaned\n",
    "WHERE popularity>80\"\"\" , engine)\n",
    "\n",
    "df_metrics_of_all_tracks = pd.read_sql(\"\"\"SELECT\n",
    "AVG(energy)  [Avg Energy],\n",
    "AVG(acousticness)  [Avg acousticness],\n",
    "AVG(duration_min) [Avg duration]\n",
    "FROM spotify_tracks_cleaned\"\"\" , engine)\n",
    "\n",
    "print(df_metrics_of_popular_tracks)\n",
    "print(df_metrics_of_all_tracks )"
   ]
  },
  {
   "cell_type": "markdown",
   "id": "e3df3086-c8e8-4583-9a80-6eeb1731151e",
   "metadata": {},
   "source": [
    "Right Now we are not making grouped bar chart for comparison as i need to learn matplotlib \n"
   ]
  },
  {
   "cell_type": "markdown",
   "id": "d936613c-ea63-44f2-88eb-8a24b204b9c6",
   "metadata": {},
   "source": [
    "Here we can clearly see that we have a noticable diffrence in duration so song rougly ~40 seconds means shorter songs are genrally more paoular and in previous analysis we can see post 2010 songs are most popular and average duration of songs post 2010 have average duration of roughly 3 to 3.5 minutes and as post 2010 tracks are domination in popularity so we have got this analysis.\n",
    "\n",
    "\n",
    "Energy is no longer a differentiator — most songs today maintain moderate energy levels.\n",
    "\n",
    "Acousticness being slightly lower shows a steady shift toward digital production but not drastically.\n",
    "\n",
    "This supports the modern streaming trend where listeners prefer concise, high-engagement tracks that deliver impact quickly."
   ]
  },
  {
   "cell_type": "markdown",
   "id": "d8b397a0-2e7f-40f2-9385-230796e61e54",
   "metadata": {},
   "source": [
    "### Explicit Songs"
   ]
  },
  {
   "cell_type": "markdown",
   "id": "68240428-1ada-48d4-8bf5-2f77eb315b4e",
   "metadata": {},
   "source": [
    "#### % of songs explicit among all and popular songs and \n",
    "#### % of Explicit tracks among popular tracks"
   ]
  },
  {
   "cell_type": "code",
   "execution_count": null,
   "id": "9f9412d4-5ee4-4fb8-b775-d91b3754bc44",
   "metadata": {},
   "outputs": [],
   "source": [
    "df_perc_of_explicit_tracks  = pd.read_sql(\"\"\"SELECT\n",
    "CONCAT(ROUND((SUM(CAST(explicit_flag AS FLOAT)) / COUNT(*))*100, 2), ' %') [% of expllicit_tracks among ALL tracks]\n",
    "FROM spotify_tracks_cleaned\"\"\", engine)\n",
    "\n",
    "df_perc_of_explicit_tracks_among_popular_tracks = pd.read_sql(\"\"\"SELECT\n",
    "CONCAT(ROUND((SUM(CAST(explicit_flag AS FLOAT)) / COUNT(*))*100, 2), ' %') [% of expllicit_tracks among POPULAR tracks]\n",
    "FROM spotify_tracks_cleaned\n",
    "WHERE popularity>80\"\"\", engine)\n",
    "\n",
    "print(df_perc_of_explicit_tracks)\n",
    "print(df_perc_of_explicit_tracks_among_popular_tracks)"
   ]
  },
  {
   "cell_type": "markdown",
   "id": "f488cb86-b3de-4a3f-ba77-08af1bc5d38f",
   "metadata": {},
   "source": [
    "Explicit content accounts for nearly 40% of popular tracks, which is significantly higher than the ~15% representation across all songs. This indicates that explicit lyrics are a common feature of modern hits and cannot be ignored.\n",
    "\n",
    "For Spotify, this insight can guide playlist curation and recommendation systems: listeners who enjoy modern tracks—especially genres like hip-hop, rap, and trap dominated by artists such as Travis Scott and Kendrick Lamar—are more likely to engage with songs containing explicit lyrics. By recommending explicit-content tracks to users with this preference, Spotify can improve personalization and user satisfaction, and also  this trend aligns with Gen Z listening habits, short-form content, and streaming behaviors."
   ]
  },
  {
   "cell_type": "markdown",
   "id": "16d4e363-78ee-44c5-b9ef-63bf0da22b95",
   "metadata": {},
   "source": [
    "What makes a song popular? - \n",
    "\n",
    "It is the combination of Short duration, moderate energy and explicit lyrics.\n",
    "\n",
    "Explicit lyrics and modern short duration (high engagement) tracks tend to be more popular while energy is not a major diffrenciator."
   ]
  },
  {
   "cell_type": "code",
   "execution_count": null,
   "id": "b708e9d5-da69-4528-a531-3c53b126842e",
   "metadata": {},
   "outputs": [],
   "source": [
    "df_top_artists = pd.read_sql(\"\"\"SELECT TOP 11\n",
    "artist_name,\n",
    "COUNT(track_name) [Total Tracks],\n",
    "AVG(popularity) [Popularity],\n",
    "AVG(energy) [Energy],\n",
    "AVG(acousticness) [Acousticness]\n",
    "FROM spotify_tracks_cleaned\n",
    "GROUP BY artist_name\n",
    "HAVING COUNT(track_name)> 100 AND AVG(popularity) > 45\n",
    "ORDER BY COUNT(track_name) DESC ,  AVG(popularity) DESC\"\"\",  engine)\n",
    "\n",
    "df_top_artists"
   ]
  },
  {
   "cell_type": "markdown",
   "id": "86a25d47-0b1e-467c-b9e0-1e47576387ef",
   "metadata": {},
   "source": [
    "While analysing the top artists provides context on who defined music trends in different eras, energy and acousticness levels vary widely across artists and decades. Older tracks tended to have moderate energy and acousticness, whereas post-2010 music is increasingly electronically produced with lower acousticness. This reinforces that trend-level analysis over decades is more meaningful than trying to generalize at the artist level."
   ]
  },
  {
   "cell_type": "markdown",
   "id": "b9f82b2c-e0eb-4521-a9d6-205df87f02e6",
   "metadata": {},
   "source": [
    "So these were the artists who defined trends."
   ]
  },
  {
   "cell_type": "markdown",
   "id": "a9cd801e-ef63-43f8-a7da-50b102838b0d",
   "metadata": {},
   "source": [
    "# Summary\n",
    "\n",
    "#### Song duration: \n",
    "Since the 1980s, average track duration dropped from about 4.3 minutes to just over 3 minutes today, reflecting shorter attention spans and the rise of streaming and short-form content.\n",
    "\n",
    "#### Energy and loudness:\n",
    "They peaked around 2010, while danceability has gradually increased, showing that modern music favors more engaging, rhythm-driven tracks.\n",
    "\n",
    "#### Electronic production domination: \n",
    "Acousticness has declined over the decades, highlighting the shift from organic, instrument-driven songs to digitally produced sounds in contemporary music.\n",
    "\n",
    "#### Explicit content is also a major factor in hits: \n",
    "While only ~15% of all songs are explicit, nearly 37% of popular tracks contain explicit lyrics, reflecting the influence of hip-hop, trap, and streaming-era listening trends.\n",
    "\n",
    "#### Keys reveal compositional trends: \n",
    "Earlier decades favored keys like C, G, and A, whereas C# and other electronic-friendly tones have gained prominence post-2010, signaling changing musical tastes and production styles.\n",
    "\n",
    "#### Popularity is multi-dimensional: \n",
    "High energy, loudness, and danceability helps, but hits mostly depends upon catchy hooks, explicit content, marketing, artist's popularity and evolving genre trends — showing that musical success isn’t determined by audio features alone."
   ]
  }
 ],
 "metadata": {
  "kernelspec": {
   "display_name": "Python [conda env:base] *",
   "language": "python",
   "name": "conda-base-py"
  },
  "language_info": {
   "codemirror_mode": {
    "name": "ipython",
    "version": 3
   },
   "file_extension": ".py",
   "mimetype": "text/x-python",
   "name": "python",
   "nbconvert_exporter": "python",
   "pygments_lexer": "ipython3",
   "version": "3.13.5"
  }
 },
 "nbformat": 4,
 "nbformat_minor": 5
}
